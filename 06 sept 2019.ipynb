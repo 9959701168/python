{
 "cells": [
  {
   "cell_type": "markdown",
   "metadata": {},
   "source": [
    "# Adding contacts using dictionaries"
   ]
  },
  {
   "cell_type": "code",
   "execution_count": 3,
   "metadata": {},
   "outputs": [
    {
     "name": "stdout",
     "output_type": "stream",
     "text": [
      "contact added suxcessfully\n"
     ]
    }
   ],
   "source": [
    "##adding a contact\n",
    "##name,phone number\n",
    "contacts={}\n",
    "def addcontact(name,phonenumber):\n",
    "    if name not in contacts:\n",
    "        contacts[name]=phonenumber\n",
    "        print(\"contact added suxcessfully\")\n",
    "    else:\n",
    "        print(\"contact already exists\")\n",
    "addcontact('name1',9959701168)        "
   ]
  },
  {
   "cell_type": "code",
   "execution_count": 4,
   "metadata": {},
   "outputs": [
    {
     "data": {
      "text/plain": [
       "{'name1': 9959701168}"
      ]
     },
     "execution_count": 4,
     "metadata": {},
     "output_type": "execute_result"
    }
   ],
   "source": [
    "contacts"
   ]
  },
  {
   "cell_type": "code",
   "execution_count": 12,
   "metadata": {},
   "outputs": [
    {
     "name": "stdout",
     "output_type": "stream",
     "text": [
      "contact already exists\n"
     ]
    }
   ],
   "source": [
    "\n",
    "def addcontact(name,phonenumber):\n",
    "    if name not in contacts:\n",
    "        contacts[name]=phonenumber\n",
    "        print(\"contact added suxcessfully\")\n",
    "    else:\n",
    "        print(\"contact already exists\")\n",
    "addcontact('jashu',9959165175)        "
   ]
  },
  {
   "cell_type": "code",
   "execution_count": 6,
   "metadata": {},
   "outputs": [
    {
     "data": {
      "text/plain": [
       "{'jashu': 9959165175}"
      ]
     },
     "execution_count": 6,
     "metadata": {},
     "output_type": "execute_result"
    }
   ],
   "source": [
    "contacts"
   ]
  },
  {
   "cell_type": "code",
   "execution_count": 13,
   "metadata": {},
   "outputs": [
    {
     "name": "stdout",
     "output_type": "stream",
     "text": [
      "doesnot exists\n"
     ]
    }
   ],
   "source": [
    "##searching a contact\n",
    "##using key\"name\"\n",
    "def searchcontact(name):\n",
    "    if name in contacts:\n",
    "        print(name,\":\",contacts[name])\n",
    "    else:\n",
    "        print(\"doesnot exists\")\n",
    "searchcontact('name2')"
   ]
  },
  {
   "cell_type": "code",
   "execution_count": 9,
   "metadata": {},
   "outputs": [
    {
     "name": "stdout",
     "output_type": "stream",
     "text": [
      "jashu : 9959165175\n"
     ]
    }
   ],
   "source": [
    "searchcontact('jashu')"
   ]
  },
  {
   "cell_type": "code",
   "execution_count": 17,
   "metadata": {},
   "outputs": [
    {
     "name": "stdout",
     "output_type": "stream",
     "text": [
      "2 contact added succesfully\n"
     ]
    }
   ],
   "source": [
    "##merging two contacts\n",
    "##using update method\n",
    "def mergecontacts(newcontacts):\n",
    "    contacts.update(newcontacts)\n",
    "    print(len(newcontacts.keys()),\"contact added succesfully\")\n",
    "newcontacts={'name2':9959701168,'name3':9959165715}\n",
    "mergecontacts(newcontacts)"
   ]
  },
  {
   "cell_type": "code",
   "execution_count": 24,
   "metadata": {},
   "outputs": [
    {
     "name": "stdout",
     "output_type": "stream",
     "text": [
      "contact added\n"
     ]
    }
   ],
   "source": [
    "##dictionary:Mobilecontacts\n",
    "##Add a contact\n",
    "##KEY:'a',value:9959701168\n",
    "mobilecontacts={}\n",
    "def addcontacts(name,number):\n",
    "    if name not in mobilecontacts:\n",
    "        mobilecontacts[name]=number\n",
    "        print(\"contact added\")\n",
    "    else:\n",
    "        print(\"contact already exist\")\n",
    "addcontacts('a',84354865474)        \n",
    "        \n"
   ]
  },
  {
   "cell_type": "code",
   "execution_count": 25,
   "metadata": {},
   "outputs": [
    {
     "data": {
      "text/plain": [
       "{'a': 84354865474}"
      ]
     },
     "execution_count": 25,
     "metadata": {},
     "output_type": "execute_result"
    }
   ],
   "source": [
    "mobilecontacts"
   ]
  },
  {
   "cell_type": "markdown",
   "metadata": {},
   "source": [
    "# # Packages and Module\n",
    "##### Package-> is collection of modules\n",
    "##### Module ->is collection of functions"
   ]
  },
  {
   "cell_type": "code",
   "execution_count": null,
   "metadata": {},
   "outputs": [],
   "source": []
  }
 ],
 "metadata": {
  "kernelspec": {
   "display_name": "Python 3",
   "language": "python",
   "name": "python3"
  },
  "language_info": {
   "codemirror_mode": {
    "name": "ipython",
    "version": 3
   },
   "file_extension": ".py",
   "mimetype": "text/x-python",
   "name": "python",
   "nbconvert_exporter": "python",
   "pygments_lexer": "ipython3",
   "version": "3.6.5"
  }
 },
 "nbformat": 4,
 "nbformat_minor": 2
}
